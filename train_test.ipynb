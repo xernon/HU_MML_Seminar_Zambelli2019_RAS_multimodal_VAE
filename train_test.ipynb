{
  "nbformat": 4,
  "nbformat_minor": 0,
  "metadata": {
    "colab": {
      "name": "train_and_test.ipynb",
      "provenance": [],
      "collapsed_sections": []
    },
    "kernelspec": {
      "name": "python3",
      "display_name": "Python 3"
    },
    "accelerator": "GPU"
  },
  "cells": [
    {
      "cell_type": "code",
      "metadata": {
        "id": "QdAYoPRznEi_",
        "colab_type": "code",
        "outputId": "5b58a32b-eaa3-42b0-f975-df90d9b2c1c4",
        "colab": {
          "base_uri": "https://localhost:8080/",
          "height": 34
        }
      },
      "source": [
        "%tensorflow_version 1.x\n"
      ],
      "execution_count": 0,
      "outputs": [
        {
          "output_type": "stream",
          "text": [
            "TensorFlow 1.x selected.\n"
          ],
          "name": "stdout"
        }
      ]
    },
    {
      "cell_type": "code",
      "metadata": {
        "id": "QbDfUcOAno5p",
        "colab_type": "code",
        "outputId": "e3994a20-55b2-4bcb-dd96-f7973953be49",
        "colab": {
          "base_uri": "https://localhost:8080/",
          "height": 153
        }
      },
      "source": [
        "!git clone https://github.com/xernon/HU_MML_Seminar_Zambelli2019_RAS_multimodal_VAE.git"
      ],
      "execution_count": 0,
      "outputs": [
        {
          "output_type": "stream",
          "text": [
            "Cloning into 'HU_MML_Seminar_Zambelli2019_RAS_multimodal_VAE'...\n",
            "remote: Enumerating objects: 83, done.\u001b[K\n",
            "remote: Counting objects: 100% (83/83), done.\u001b[K\n",
            "remote: Compressing objects: 100% (66/66), done.\u001b[K\n",
            "remote: Total 1163 (delta 38), reused 28 (delta 9), pack-reused 1080\u001b[K\n",
            "Receiving objects: 100% (1163/1163), 99.05 MiB | 37.19 MiB/s, done.\n",
            "Resolving deltas: 100% (467/467), done.\n",
            "Checking out files: 100% (785/785), done.\n"
          ],
          "name": "stdout"
        }
      ]
    },
    {
      "cell_type": "code",
      "metadata": {
        "id": "Xq3RiGZGqY1W",
        "colab_type": "code",
        "outputId": "ee2f0fe8-1695-4c19-b522-a6537bcac371",
        "colab": {
          "base_uri": "https://localhost:8080/",
          "height": 34
        }
      },
      "source": [
        "%cd /content/HU_MML_Seminar_Zambelli2019_RAS_multimodal_VAE"
      ],
      "execution_count": 0,
      "outputs": [
        {
          "output_type": "stream",
          "text": [
            "/content/HU_MML_Seminar_Zambelli2019_RAS_multimodal_VAE\n"
          ],
          "name": "stdout"
        }
      ]
    },
    {
      "cell_type": "code",
      "metadata": {
        "id": "pAhejoMEKqp-",
        "colab_type": "code",
        "colab": {}
      },
      "source": [
        "from google.colab import drive\n",
        "drive.mount('/content/drive')"
      ],
      "execution_count": 0,
      "outputs": []
    },
    {
      "cell_type": "code",
      "metadata": {
        "id": "Q7aiEewsqFPr",
        "colab_type": "code",
        "colab": {}
      },
      "source": [
        "!bash ./run_replications_mvae.sh"
      ],
      "execution_count": 0,
      "outputs": []
    },
    {
      "cell_type": "code",
      "metadata": {
        "id": "SkPItcuHpFW-",
        "colab_type": "code",
        "colab": {}
      },
      "source": [
        "!bash ./run_replications_mvae_test.sh"
      ],
      "execution_count": 0,
      "outputs": []
    },
    {
      "cell_type": "code",
      "metadata": {
        "id": "yy2Q0IPyKqMA",
        "colab_type": "code",
        "colab": {}
      },
      "source": [
        "%rm -r /content/HU_MML_Seminar_Zambelli2019_RAS_multimodal_VAE"
      ],
      "execution_count": 0,
      "outputs": []
    },
    {
      "cell_type": "markdown",
      "metadata": {
        "id": "JLcahBoTnzEk",
        "colab_type": "text"
      },
      "source": [
        ""
      ]
    }
  ]
}