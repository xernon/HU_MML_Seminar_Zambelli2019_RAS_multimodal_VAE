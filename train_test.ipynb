{
  "nbformat": 4,
  "nbformat_minor": 0,
  "metadata": {
    "colab": {
      "name": "Untitled0.ipynb",
      "provenance": [],
      "collapsed_sections": []
    },
    "kernelspec": {
      "name": "python3",
      "display_name": "Python 3"
    },
    "accelerator": "GPU"
  },
  "cells": [
    {
      "cell_type": "code",
      "metadata": {
        "id": "QdAYoPRznEi_",
        "colab_type": "code",
        "colab": {}
      },
      "source": [
        "!pip install tensorflow==1.15\n"
      ],
      "execution_count": 0,
      "outputs": []
    },
    {
      "cell_type": "code",
      "metadata": {
        "id": "QbDfUcOAno5p",
        "colab_type": "code",
        "colab": {}
      },
      "source": [
        "!git clone https://github.com/xernon/HU_MML_Seminar_Zambelli2019_RAS_multimodal_VAE.git"
      ],
      "execution_count": 0,
      "outputs": []
    },
    {
      "cell_type": "code",
      "metadata": {
        "id": "Xq3RiGZGqY1W",
        "colab_type": "code",
        "colab": {}
      },
      "source": [
        "%cd /content/HU_MML_Seminar_Zambelli2019_RAS_multimodal_VAE"
      ],
      "execution_count": 0,
      "outputs": []
    },
    {
      "cell_type": "code",
      "metadata": {
        "id": "Q7aiEewsqFPr",
        "colab_type": "code",
        "colab": {}
      },
      "source": [
        "!bash ./run_replications_mvae.sh"
      ],
      "execution_count": 0,
      "outputs": []
    },
    {
      "cell_type": "code",
      "metadata": {
        "id": "SkPItcuHpFW-",
        "colab_type": "code",
        "colab": {}
      },
      "source": [
        "!bash ./run_replications_mvae_test.sh"
      ],
      "execution_count": 0,
      "outputs": []
    },
    {
      "cell_type": "markdown",
      "metadata": {
        "id": "JLcahBoTnzEk",
        "colab_type": "text"
      },
      "source": [
        ""
      ]
    }
  ]
}