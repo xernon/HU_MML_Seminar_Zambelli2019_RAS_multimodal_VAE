{
  "nbformat": 4,
  "nbformat_minor": 0,
  "metadata": {
    "colab": {
      "name": "train_and_test.ipynb",
      "provenance": [],
      "collapsed_sections": []
    },
    "kernelspec": {
      "name": "python3",
      "display_name": "Python 3"
    },
    "accelerator": "GPU"
  },
  "cells": [
    {
      "cell_type": "code",
      "metadata": {
        "id": "QdAYoPRznEi_",
        "colab_type": "code",
        "outputId": "e8aa232e-f4f1-4bcc-f4d1-39e654d49893",
        "colab": {
          "base_uri": "https://localhost:8080/",
          "height": 34
        }
      },
      "source": [
        "%tensorflow_version 1.x"
      ],
      "execution_count": 5,
      "outputs": [
        {
          "output_type": "stream",
          "text": [
            "TensorFlow 1.x selected.\n"
          ],
          "name": "stdout"
        }
      ]
    },
    {
      "cell_type": "code",
      "metadata": {
        "id": "QbDfUcOAno5p",
        "colab_type": "code",
        "colab": {}
      },
      "source": [
        "!git clone https://github.com/xernon/HU_MML_Seminar_Zambelli2019_RAS_multimodal_VAE.git"
      ],
      "execution_count": 0,
      "outputs": []
    },
    {
      "cell_type": "code",
      "metadata": {
        "id": "pAhejoMEKqp-",
        "colab_type": "code",
        "colab": {}
      },
      "source": [
        "from google.colab import drive\n",
        "drive.mount('/content/drive')"
      ],
      "execution_count": 0,
      "outputs": []
    },
    {
      "cell_type": "code",
      "metadata": {
        "id": "Xq3RiGZGqY1W",
        "colab_type": "code",
        "colab": {}
      },
      "source": [
        "%cd /content/HU_MML_Seminar_Zambelli2019_RAS_multimodal_VAE"
      ],
      "execution_count": 0,
      "outputs": []
    },
    {
      "cell_type": "code",
      "metadata": {
        "id": "Q7aiEewsqFPr",
        "colab_type": "code",
        "colab": {}
      },
      "source": [
        "!bash ./run_replications_mvae.sh >> /content/HU_MML_Seminar_Zambelli2019_RAS_multimodal_VAE/replications_mvae/log_1.txt"
      ],
      "execution_count": 0,
      "outputs": []
    },
    {
      "cell_type": "code",
      "metadata": {
        "id": "yy2Q0IPyKqMA",
        "colab_type": "code",
        "colab": {}
      },
      "source": [
        "%rm -r /content/HU_MML_Seminar_Zambelli2019_RAS_multimodal_VAE/replications_mvae/*"
      ],
      "execution_count": 0,
      "outputs": []
    }
  ]
}